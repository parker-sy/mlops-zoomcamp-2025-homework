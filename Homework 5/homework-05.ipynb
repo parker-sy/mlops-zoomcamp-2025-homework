{
 "cells": [
  {
   "cell_type": "markdown",
   "id": "be932680",
   "metadata": {
    "vscode": {
     "languageId": "plaintext"
    }
   },
   "source": [
    "### Q1. Prepare the dataset"
   ]
  },
  {
   "cell_type": "code",
   "execution_count": null,
   "id": "4caafb87",
   "metadata": {},
   "outputs": [],
   "source": [
    "# Start with baseline_model_nyc_taxi_data.ipynb. \n",
    "# Download the March 2024 Green Taxi data.\n",
    "\n",
    "# Q: What is the shape of the downloaded data? How many rows are there?\n",
    "\n",
    "# > (57457, 20)"
   ]
  },
  {
   "cell_type": "markdown",
   "id": "0293f3a2",
   "metadata": {},
   "source": [
    "### Q2. Metric"
   ]
  },
  {
   "cell_type": "code",
   "execution_count": null,
   "id": "30c7e31f",
   "metadata": {},
   "outputs": [],
   "source": [
    "# Let's expand the number of data quality metrics we’d like to monitor! \n",
    "# Please add one metric of your choice and a quantile value for the \"fare_amount\" column (quantile=0.5).\n",
    "\n",
    "# Hint: explore evidently metric ColumnQuantileMetric (from evidently.metrics import ColumnQuantileMetric)\n",
    "\n",
    "# Q: What metric did you choose?\n",
    "\n",
    "# > MedianValue(column='total_amount')\n",
    "# > QuantileValue(column='fare_amount', quantile=0.5)"
   ]
  },
  {
   "cell_type": "markdown",
   "id": "996207c7",
   "metadata": {},
   "source": [
    "### Q3. Monitoring"
   ]
  },
  {
   "cell_type": "code",
   "execution_count": null,
   "id": "2c7d46b4",
   "metadata": {},
   "outputs": [],
   "source": [
    "# Run expanded monitoring for a new batch of data (March 2024).\n",
    "\n",
    "# Q: What is the maximum value of metric quantile = 0.5 on the \"fare_amount\" column during March 2024 (calculated daily)?\n",
    "\n",
    "# > 14.2"
   ]
  },
  {
   "cell_type": "markdown",
   "id": "81800895",
   "metadata": {},
   "source": [
    "### Q4. Dashboard"
   ]
  },
  {
   "cell_type": "code",
   "execution_count": null,
   "id": "5e1977d4",
   "metadata": {},
   "outputs": [],
   "source": [
    "# Finally, let’s add panels with new added metrics to the dashboard. \n",
    "# After we customize the dashboard let's save a dashboard config, so that we can access it later. \n",
    "# Hint: click on “Save dashboard” to access JSON configuration of the dashboard. \n",
    "# This configuration should be saved locally.\n",
    "\n",
    "# Q: Where to place a dashboard config file?\n",
    "\n",
    "# > project_folder/dashboards"
   ]
  }
 ],
 "metadata": {
  "language_info": {
   "name": "python"
  }
 },
 "nbformat": 4,
 "nbformat_minor": 5
}
