{
 "cells": [
  {
   "cell_type": "code",
   "execution_count": null,
   "id": "41860101",
   "metadata": {},
   "outputs": [],
   "source": []
  },
  {
   "cell_type": "markdown",
   "id": "349b06f6",
   "metadata": {},
   "source": [
    "### Q1.Select the Tool"
   ]
  },
  {
   "cell_type": "code",
   "execution_count": null,
   "id": "b0af9bb5",
   "metadata": {},
   "outputs": [],
   "source": [
    "# What's the name of the orchestrator you chose?\n",
    "\n",
    "# Mage"
   ]
  },
  {
   "cell_type": "markdown",
   "id": "be91b23c",
   "metadata": {},
   "source": [
    "### Q2. Version"
   ]
  },
  {
   "cell_type": "code",
   "execution_count": 1,
   "id": "b3c7e9b4",
   "metadata": {},
   "outputs": [
    {
     "name": "stdout",
     "output_type": "stream",
     "text": [
      "warning: unable to access '/home/codespace/.gitconfig': Is a directory\n",
      "warning: unable to access '/home/codespace/.gitconfig': Is a directory\n",
      "fatal: unknown error occurred while reading the configuration files\n",
      "/bin/bash: ./scripts/start.sh: No such file or directory\n"
     ]
    }
   ],
   "source": [
    "!git clone https://github.com/mage-ai/mlops.git\n",
    "!cd mlops\n",
    "\n",
    "# Launch Mage and the database service (PostgreSQL):\n",
    "!./scripts/start.sh\n",
    "\n",
    "# Open http://localhost:6789 in browser."
   ]
  },
  {
   "cell_type": "code",
   "execution_count": null,
   "id": "b95df59f",
   "metadata": {},
   "outputs": [],
   "source": [
    "# What's the version of the orchestractor?\n",
    "\n",
    "# v0.9.73"
   ]
  },
  {
   "cell_type": "markdown",
   "id": "804d36e5",
   "metadata": {},
   "source": [
    "### Q3.Creating a pipeline"
   ]
  },
  {
   "cell_type": "code",
   "execution_count": null,
   "id": "33185a8c",
   "metadata": {},
   "outputs": [],
   "source": [
    "# create a data loader block named \"load\"\n",
    "\n",
    "# paste codes:\n",
    "\"\"\"\n",
    "import pandas as pd\n",
    "\n",
    "df = pd.read_parquet('https://d37ci6vzurychx.cloudfront.net/trip-data/yellow_tripdata_2023-03.parquet')\n",
    "\"\"\""
   ]
  },
  {
   "cell_type": "code",
   "execution_count": null,
   "id": "7d6d844a",
   "metadata": {},
   "outputs": [],
   "source": [
    "# How many records did we load (the March 2023 Yellow taxi trips data)?\n",
    "\n",
    "# 3403766 rows x 19 columns"
   ]
  },
  {
   "cell_type": "markdown",
   "id": "3dfba1c6",
   "metadata": {},
   "source": [
    "### Q4.Data preparation"
   ]
  },
  {
   "cell_type": "code",
   "execution_count": null,
   "id": "136bf386",
   "metadata": {},
   "outputs": [],
   "source": [
    "# create a Transformer block named \"transform\"\n",
    "\n",
    "# paste codes:\n",
    "\"\"\"\n",
    "import pandas as pd\n",
    "\n",
    "df.tpep_dropoff_datetime = pd.to_datetime(df.tpep_dropoff_datetime)\n",
    "df.tpep_pickup_datetime = pd.to_datetime(df.tpep_pickup_datetime)\n",
    "\n",
    "df['duration'] = df.tpep_dropoff_datetime - df.tpep_pickup_datetime\n",
    "df.duration = df.duration.dt.total_seconds() / 60\n",
    "\n",
    "df = df[(df.duration >= 1) & (df.duration <= 60)]\n",
    "\n",
    "categorical = ['PULocationID', 'DOLocationID']\n",
    "df[categorical] = df[categorical].astype(str)\n",
    "\"\"\""
   ]
  },
  {
   "cell_type": "code",
   "execution_count": null,
   "id": "ad9127d5",
   "metadata": {},
   "outputs": [],
   "source": [
    "# What's the size of the result?\n",
    "\n",
    "# 3316216 rows x 20 columns"
   ]
  },
  {
   "cell_type": "markdown",
   "id": "0614f7c8",
   "metadata": {},
   "source": [
    "### Q5.Train a model"
   ]
  },
  {
   "cell_type": "code",
   "execution_count": null,
   "id": "78023394",
   "metadata": {},
   "outputs": [],
   "source": [
    "# create a Transformer block named \"train\"\n",
    "\n",
    "# paste codes:\n",
    "\"\"\"\n",
    "from sklearn.feature_extraction import DictVectorizer\n",
    "from sklearn.linear_model import LinearRegression\n",
    "\n",
    "def transform(df, *args, **kwargs):\n",
    "    # Specify your transformation logic here\n",
    "    categorical = ['PULocationID', 'DOLocationID']\n",
    "    df[categorical] = df[categorical].astype(str)\n",
    "    train_dicts = df[categorical].to_dict(orient='records')\n",
    "\n",
    "    dv = DictVectorizer()\n",
    "    x_train = dv.fit_transform(train_dicts)\n",
    "\n",
    "    target = 'duration'\n",
    "    y_train = df[target].values\n",
    "\n",
    "    lr = LinearRegression()\n",
    "    lr.fit(x_train, y_train)\n",
    "\n",
    "    print(lr.intercept_)\n",
    "\n",
    "    return dv, lr\n",
    "\"\"\""
   ]
  },
  {
   "cell_type": "code",
   "execution_count": null,
   "id": "4f578f9e",
   "metadata": {},
   "outputs": [],
   "source": [
    "# What's the intercept of the model?\n",
    "\n",
    "# 24.776368754137366"
   ]
  },
  {
   "cell_type": "markdown",
   "id": "10a0a43e",
   "metadata": {},
   "source": [
    "### Q6.Register the model"
   ]
  },
  {
   "cell_type": "code",
   "execution_count": null,
   "id": "f6a38724",
   "metadata": {},
   "outputs": [],
   "source": [
    "# stop Mage with Ctrl+C\n",
    "\n",
    "# follow the instructions to add scripts\n",
    "\n",
    "# ./scripts/start.sh\n",
    "\n",
    "# Open http://localhost:6789 in browser.\n",
    "# Open http://127.0.0.1:5000 in browser."
   ]
  },
  {
   "cell_type": "code",
   "execution_count": null,
   "id": "80ba96dd",
   "metadata": {},
   "outputs": [],
   "source": [
    "# > Mage:\n",
    "# create a Data exporter block named \"save\"\n",
    "\n",
    "# paste codes:\n",
    "\"\"\"\n",
    "import pickle\n",
    "import mlflow\n",
    "\n",
    "mlflow.set_tracking_uri(\"http://mlflow:5000\")\n",
    "mlflow.set_experiment(\"nyc-taxi-experiment\")\n",
    "\n",
    "def export_data(data, *args, **kwargs):\n",
    "    # Specify your data exporting logic here\n",
    "    dv, lr = data\n",
    "    with mlflow.start_run():\n",
    "        with open('dict_vectorizer.bin', 'wb') as f_out:\n",
    "            pickle.dump(dv, f_out)\n",
    "        mlflow.log_artifact('dict_vectorizer.bin')\n",
    "\n",
    "        mlflow.sklearn.log_model(lr, 'model')\n",
    "\n",
    "    print('OK')\n",
    "\"\"\""
   ]
  },
  {
   "cell_type": "code",
   "execution_count": null,
   "id": "63b65f4d",
   "metadata": {},
   "outputs": [],
   "source": [
    "# Find the logged model, and find MLModel file. What's the size of the model? (model_size_bytes field):\n",
    "\n",
    "# model_size_bytes: 4534"
   ]
  }
 ],
 "metadata": {
  "kernelspec": {
   "display_name": "Python 3",
   "language": "python",
   "name": "python3"
  },
  "language_info": {
   "codemirror_mode": {
    "name": "ipython",
    "version": 3
   },
   "file_extension": ".py",
   "mimetype": "text/x-python",
   "name": "python",
   "nbconvert_exporter": "python",
   "pygments_lexer": "ipython3",
   "version": "3.12.1"
  }
 },
 "nbformat": 4,
 "nbformat_minor": 5
}
