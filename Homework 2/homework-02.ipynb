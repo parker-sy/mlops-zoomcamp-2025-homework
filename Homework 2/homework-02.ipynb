{
 "cells": [
  {
   "cell_type": "code",
   "execution_count": null,
   "id": "a1fe5167",
   "metadata": {},
   "outputs": [],
   "source": []
  },
  {
   "cell_type": "markdown",
   "id": "6ac93b5d",
   "metadata": {},
   "source": [
    "### Q1. Install MLflow"
   ]
  },
  {
   "cell_type": "code",
   "execution_count": null,
   "id": "ea34960a",
   "metadata": {},
   "outputs": [],
   "source": [
    "# scripts for creating Python environment\n",
    "\n",
    "!conda create -n exp-tracking-env python=3.9\n",
    "!conda activate exp-tracking-env\n",
    "!pip install -r requirements.txt"
   ]
  },
  {
   "cell_type": "code",
   "execution_count": null,
   "id": "7e354cec",
   "metadata": {},
   "outputs": [],
   "source": [
    "# What's the MLflow version that you have?\n",
    "\n",
    "!mlflow --version\n",
    "\n",
    "# > mlflow, version 2.22.0"
   ]
  },
  {
   "cell_type": "markdown",
   "id": "ed83de67",
   "metadata": {},
   "source": [
    "### Q2. Download and preprocess the data"
   ]
  },
  {
   "cell_type": "code",
   "execution_count": null,
   "id": "023aeeae",
   "metadata": {},
   "outputs": [],
   "source": [
    "!python preprocess_data.py --raw_data_path taxi_data --dest_path ./output"
   ]
  },
  {
   "cell_type": "code",
   "execution_count": null,
   "id": "52fd4871",
   "metadata": {},
   "outputs": [],
   "source": [
    "# How many files were saved to OUTPUT_FOLDER?\n",
    "!ls output\n",
    "\n",
    "# > 4\n",
    "# dv.pkl  test.pkl  train.pkl  val.pkl"
   ]
  },
  {
   "cell_type": "markdown",
   "id": "2dbd77fd",
   "metadata": {},
   "source": [
    "### Q3. Train a model with autolog"
   ]
  },
  {
   "cell_type": "code",
   "execution_count": null,
   "id": "718698ce",
   "metadata": {},
   "outputs": [],
   "source": [
    "!python train.py"
   ]
  },
  {
   "cell_type": "code",
   "execution_count": null,
   "id": "06f4f9a0",
   "metadata": {},
   "outputs": [],
   "source": [
    "! mlflow ui"
   ]
  },
  {
   "cell_type": "code",
   "execution_count": null,
   "id": "8904bd21",
   "metadata": {},
   "outputs": [],
   "source": [
    "# What is the value of the min_samples_split parameter?\n",
    "\n",
    "# > 2"
   ]
  },
  {
   "cell_type": "markdown",
   "id": "303ead5c",
   "metadata": {},
   "source": [
    "### Q4. Launch the tracking server locally"
   ]
  },
  {
   "cell_type": "code",
   "execution_count": null,
   "id": "4cdd822f",
   "metadata": {},
   "outputs": [],
   "source": [
    "# !mlflow server --backend-store-uri sqlite:///backend.db"
   ]
  },
  {
   "cell_type": "code",
   "execution_count": null,
   "id": "04e4feb3",
   "metadata": {},
   "outputs": [],
   "source": [
    "!mlflow server --backend-store-uri sqlite:///backend.db --default-artifact-root ./artifacts_local"
   ]
  },
  {
   "cell_type": "code",
   "execution_count": null,
   "id": "193fa82d",
   "metadata": {},
   "outputs": [],
   "source": [
    "# In addition to backend-store-uri, what else do you need to pass to properly configure the server?\n",
    "\n",
    "# > default-artifact-root"
   ]
  },
  {
   "cell_type": "markdown",
   "id": "60d63125",
   "metadata": {},
   "source": [
    "### Q5. Tune model hyperparameters"
   ]
  },
  {
   "cell_type": "code",
   "execution_count": null,
   "id": "fc5e6e42",
   "metadata": {},
   "outputs": [],
   "source": [
    "! mlfow ui"
   ]
  },
  {
   "cell_type": "code",
   "execution_count": null,
   "id": "595a6524",
   "metadata": {},
   "outputs": [],
   "source": [
    "# in another terminal\n",
    "\n",
    "!python hpo.py"
   ]
  },
  {
   "cell_type": "code",
   "execution_count": null,
   "id": "6eea9d88",
   "metadata": {},
   "outputs": [],
   "source": [
    "# What's the best validation RMSE that you got?\n",
    "\n",
    "# > rmse 5.335419588556921"
   ]
  },
  {
   "cell_type": "markdown",
   "id": "af3f7826",
   "metadata": {},
   "source": [
    "### Q6. Promote the best model to the model registry"
   ]
  },
  {
   "cell_type": "code",
   "execution_count": null,
   "id": "2ee48ee6",
   "metadata": {},
   "outputs": [],
   "source": [
    "!python register_model.py"
   ]
  },
  {
   "cell_type": "code",
   "execution_count": null,
   "id": "25be619e",
   "metadata": {},
   "outputs": [],
   "source": [
    "# What is the test RMSE of the best model?\n",
    "\n",
    "# > 5.56740801"
   ]
  }
 ],
 "metadata": {
  "language_info": {
   "name": "python"
  }
 },
 "nbformat": 4,
 "nbformat_minor": 5
}
