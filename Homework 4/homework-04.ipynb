{
 "cells": [
  {
   "cell_type": "code",
   "execution_count": 1,
   "id": "2c51efaa",
   "metadata": {},
   "outputs": [
    {
     "name": "stdout",
     "output_type": "stream",
     "text": [
      "scikit-learn==1.5.0\n"
     ]
    }
   ],
   "source": [
    "!pip freeze | grep scikit-learn"
   ]
  },
  {
   "cell_type": "code",
   "execution_count": 2,
   "id": "4acf73a0-51b5-4663-9bb8-8eb947863e17",
   "metadata": {},
   "outputs": [
    {
     "name": "stdout",
     "output_type": "stream",
     "text": [
      "Python 3.10.13\n"
     ]
    }
   ],
   "source": [
    "!python -V"
   ]
  },
  {
   "cell_type": "code",
   "execution_count": null,
   "id": "0ef880a0",
   "metadata": {},
   "outputs": [],
   "source": [
    "import pickle\n",
    "import pandas as pd"
   ]
  },
  {
   "cell_type": "code",
   "execution_count": 2,
   "id": "7836ccfd",
   "metadata": {},
   "outputs": [
    {
     "name": "stderr",
     "output_type": "stream",
     "text": [
      "/home/codespace/.local/lib/python3.12/site-packages/sklearn/base.py:380: InconsistentVersionWarning: Trying to unpickle estimator DictVectorizer from version 1.5.0 when using version 1.6.1. This might lead to breaking code or invalid results. Use at your own risk. For more info please refer to:\n",
      "https://scikit-learn.org/stable/model_persistence.html#security-maintainability-limitations\n",
      "  warnings.warn(\n",
      "/home/codespace/.local/lib/python3.12/site-packages/sklearn/base.py:380: InconsistentVersionWarning: Trying to unpickle estimator LinearRegression from version 1.5.0 when using version 1.6.1. This might lead to breaking code or invalid results. Use at your own risk. For more info please refer to:\n",
      "https://scikit-learn.org/stable/model_persistence.html#security-maintainability-limitations\n",
      "  warnings.warn(\n"
     ]
    }
   ],
   "source": [
    "with open('model.bin', 'rb') as f_in:\n",
    "    dv, model = pickle.load(f_in)"
   ]
  },
  {
   "cell_type": "code",
   "execution_count": 3,
   "id": "41c08294",
   "metadata": {},
   "outputs": [],
   "source": [
    "categorical = ['PULocationID', 'DOLocationID']\n",
    "\n",
    "def read_data(filename):\n",
    "    df = pd.read_parquet(filename)\n",
    "    \n",
    "    df['duration'] = df.tpep_dropoff_datetime - df.tpep_pickup_datetime\n",
    "    df['duration'] = df.duration.dt.total_seconds() / 60\n",
    "\n",
    "    df = df[(df.duration >= 1) & (df.duration <= 60)].copy()\n",
    "\n",
    "    df[categorical] = df[categorical].fillna(-1).astype('int').astype('str')\n",
    "    \n",
    "    return df"
   ]
  },
  {
   "cell_type": "code",
   "execution_count": 6,
   "id": "4854399a",
   "metadata": {},
   "outputs": [],
   "source": [
    "def load_data(year, month):\n",
    "    df = read_data(f'https://d37ci6vzurychx.cloudfront.net/trip-data/yellow_tripdata_{year:04d}-{month:02d}.parquet')\n",
    "    return df"
   ]
  },
  {
   "cell_type": "code",
   "execution_count": null,
   "id": "669fda0a",
   "metadata": {},
   "outputs": [],
   "source": []
  },
  {
   "cell_type": "markdown",
   "id": "bf532ae7-1897-428c-ba0c-875ccaf7d76c",
   "metadata": {},
   "source": [
    "### Q1. Notebook"
   ]
  },
  {
   "cell_type": "code",
   "execution_count": 7,
   "id": "a419c629",
   "metadata": {},
   "outputs": [],
   "source": [
    "# Run the codes for the March 2023 data.\n",
    "\n",
    "year = 2023\n",
    "month = 3\n",
    "\n",
    "df = load_data(year, month)\n",
    "dicts = df[categorical].to_dict(orient='records')\n",
    "X_val = dv.transform(dicts)\n",
    "y_pred = model.predict(X_val)"
   ]
  },
  {
   "cell_type": "code",
   "execution_count": null,
   "id": "3a455839",
   "metadata": {},
   "outputs": [
    {
     "data": {
      "text/plain": [
       "np.float64(6.247488852238703)"
      ]
     },
     "execution_count": 11,
     "metadata": {},
     "output_type": "execute_result"
    }
   ],
   "source": [
    "# What's the standard deviation of the predicted duration for this dataset?\n",
    "\n",
    "y_pred.std()"
   ]
  },
  {
   "cell_type": "markdown",
   "id": "175dc355",
   "metadata": {},
   "source": [
    "### Q2. Preparing the output"
   ]
  },
  {
   "cell_type": "code",
   "execution_count": 14,
   "id": "391a7d83",
   "metadata": {},
   "outputs": [],
   "source": [
    "# First, let's create an artificial ride_id column:\n",
    "df_result = pd.DataFrame()\n",
    "df_result['ride_id'] = f'{year:04d}/{month:02d}_' + df.index.astype('str')"
   ]
  },
  {
   "cell_type": "code",
   "execution_count": 15,
   "id": "0de7a949",
   "metadata": {},
   "outputs": [],
   "source": [
    "# Next, write the ride id and the predictions to a dataframe with results.\n",
    "df_result['prediction'] = y_pred"
   ]
  },
  {
   "cell_type": "code",
   "execution_count": 16,
   "id": "b5eae869",
   "metadata": {},
   "outputs": [],
   "source": [
    "# Save it as parquet:\n",
    "output_file = 'predictions.parquet'\n",
    "\n",
    "df_result.to_parquet(\n",
    "    output_file,\n",
    "    engine='pyarrow',\n",
    "    compression=None,\n",
    "    index=False\n",
    ")"
   ]
  },
  {
   "cell_type": "code",
   "execution_count": null,
   "id": "6fe03a83",
   "metadata": {},
   "outputs": [
    {
     "name": "stdout",
     "output_type": "stream",
     "text": [
      "-rw-rw-rw- 1 codespace codespace 66M Jun  8 04:04 predictions.parquet\n"
     ]
    }
   ],
   "source": [
    "# What's the size of the output file?\n",
    "\n",
    "!ls -lh 'predictions.parquet'"
   ]
  },
  {
   "cell_type": "markdown",
   "id": "8def3c74",
   "metadata": {},
   "source": [
    "### Q3. Creating the scoring script"
   ]
  },
  {
   "cell_type": "code",
   "execution_count": null,
   "id": "1d548aa6",
   "metadata": {},
   "outputs": [],
   "source": [
    "# Now let's turn the notebook into a script.\n",
    "\n",
    "# Which command you need to execute for that?\n",
    "\n",
    "!jupyter nbconvert --to script score.ipynb"
   ]
  },
  {
   "cell_type": "markdown",
   "id": "baf2f95f",
   "metadata": {},
   "source": [
    "### Q4. Virtual environment"
   ]
  },
  {
   "cell_type": "code",
   "execution_count": null,
   "id": "21742724",
   "metadata": {},
   "outputs": [],
   "source": [
    "# Now let's put everything into a virtual environment.\n",
    "\n",
    "!pip freeze | grep scikit-learn\n",
    "!pipenv install scikit-learn==1.5.0 flask --python=3.10.13"
   ]
  },
  {
   "cell_type": "code",
   "execution_count": null,
   "id": "878d3f04",
   "metadata": {},
   "outputs": [],
   "source": [
    "# The Pipfile.lock file keeps the hashes of the dependencies we use for the virtual env.\n",
    "# What's the first hash for the Scikit-Learn dependency?\n",
    "\n",
    "\"sha256:057b991ac64b3e75c9c04b5f9395eaf19a6179244c089afdebaad98264bff37c\""
   ]
  },
  {
   "cell_type": "markdown",
   "id": "e1dc7475",
   "metadata": {},
   "source": [
    "### Q5. Parametrize the script"
   ]
  },
  {
   "cell_type": "code",
   "execution_count": null,
   "id": "848d6613",
   "metadata": {},
   "outputs": [],
   "source": [
    "# Let's now make the script configurable via CLI. We'll create two parameters: year and month.\n",
    "\n",
    "# > please refer to the script file batch_predict.py"
   ]
  },
  {
   "cell_type": "code",
   "execution_count": null,
   "id": "577b4b99",
   "metadata": {},
   "outputs": [],
   "source": [
    "# Run the script for April 2023.\n",
    "\n",
    "!python batch_predict.py 2023 4"
   ]
  },
  {
   "cell_type": "code",
   "execution_count": null,
   "id": "24b8899d",
   "metadata": {},
   "outputs": [],
   "source": [
    "# What's the mean predicted duration?\n",
    "\n",
    "# > predicted mean duration: 14.292282936862449"
   ]
  },
  {
   "cell_type": "markdown",
   "id": "95beef5c",
   "metadata": {},
   "source": [
    "### Q6. Docker container"
   ]
  },
  {
   "cell_type": "code",
   "execution_count": null,
   "id": "114f7963",
   "metadata": {},
   "outputs": [],
   "source": [
    "# please refer to the docker file homework.dockerfile\n",
    "\n",
    "!docker build -t ride-duration-homework:v1 -f homework.dockerfile ."
   ]
  },
  {
   "cell_type": "code",
   "execution_count": null,
   "id": "b3c0ee17",
   "metadata": {},
   "outputs": [],
   "source": [
    "# Now run the script with docker. What's the mean predicted duration for May 2023?\n",
    "\n",
    "!docker run -it --rm -p 9696:9696 ride-duration-homework:v1 2023 5\n",
    "\n",
    "# > predicted mean duration: 0.19174419265916945"
   ]
  }
 ],
 "metadata": {
  "kernelspec": {
   "display_name": "Python 3",
   "language": "python",
   "name": "python3"
  },
  "language_info": {
   "codemirror_mode": {
    "name": "ipython",
    "version": 3
   },
   "file_extension": ".py",
   "mimetype": "text/x-python",
   "name": "python",
   "nbconvert_exporter": "python",
   "pygments_lexer": "ipython3",
   "version": "3.12.1"
  }
 },
 "nbformat": 4,
 "nbformat_minor": 5
}
